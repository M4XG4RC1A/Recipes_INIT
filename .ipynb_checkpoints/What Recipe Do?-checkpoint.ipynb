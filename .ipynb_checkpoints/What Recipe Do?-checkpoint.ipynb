{
 "cells": [
  {
   "cell_type": "markdown",
   "id": "d08eb248",
   "metadata": {},
   "source": [
    "# What Recipe Do?\n",
    "Based on a data base tell your actual ingredients and we tell you if you can do one or more of our recipes."
   ]
  },
  {
   "cell_type": "code",
   "execution_count": 35,
   "id": "b406d4a3",
   "metadata": {},
   "outputs": [],
   "source": [
    "import pandas as pd\n",
    "import ipywidgets as widgets\n",
    "Ingredients = []\n",
    "data = pd.read_csv(\"ingredientsList.csv\")\n",
    "nVariables = data.columns.values"
   ]
  },
  {
   "cell_type": "markdown",
   "id": "6b8954cb",
   "metadata": {},
   "source": [
    "## Tell your ingredients"
   ]
  },
  {
   "cell_type": "code",
   "execution_count": 36,
   "id": "5c95737e",
   "metadata": {},
   "outputs": [
    {
     "data": {
      "application/vnd.jupyter.widget-view+json": {
       "model_id": "3868d4acf3674358a8c009956d4f11e5",
       "version_major": 2,
       "version_minor": 0
      },
      "text/plain": [
       "Text(value='', placeholder='Type your ingredients')"
      ]
     },
     "metadata": {},
     "output_type": "display_data"
    },
    {
     "data": {
      "application/vnd.jupyter.widget-view+json": {
       "model_id": "92690c96ebea408f9a058de8f80e80da",
       "version_major": 2,
       "version_minor": 0
      },
      "text/plain": [
       "Button(description='New Ingredient', style=ButtonStyle())"
      ]
     },
     "metadata": {},
     "output_type": "display_data"
    },
    {
     "data": {
      "application/vnd.jupyter.widget-view+json": {
       "model_id": "513efd6ad81e4db68a397dc9b9293a4e",
       "version_major": 2,
       "version_minor": 0
      },
      "text/plain": [
       "Text(value='', disabled=True)"
      ]
     },
     "metadata": {},
     "output_type": "display_data"
    },
    {
     "data": {
      "application/vnd.jupyter.widget-view+json": {
       "model_id": "dfd1c866a59a416fbec9cb0c63bf6f2e",
       "version_major": 2,
       "version_minor": 0
      },
      "text/plain": [
       "Dropdown(options=(), value=None)"
      ]
     },
     "metadata": {},
     "output_type": "display_data"
    },
    {
     "data": {
      "application/vnd.jupyter.widget-view+json": {
       "model_id": "67df4afad5ce4bc98cdb4d4e50e1ffe0",
       "version_major": 2,
       "version_minor": 0
      },
      "text/plain": [
       "Button(description='Delete Ingredient', style=ButtonStyle())"
      ]
     },
     "metadata": {},
     "output_type": "display_data"
    }
   ],
   "source": [
    "def updateDrop():\n",
    "    listI.options = Ingredients\n",
    "def updateList(b):\n",
    "    Ingredients.append(obj.value)\n",
    "    State.value = \"Added \"+obj.value\n",
    "    obj.value = ''\n",
    "    updateDrop()\n",
    "def deleteList(b):\n",
    "    ind = Ingredients.index(listI.value)\n",
    "    Ingredients.remove(listI.value)\n",
    "    updateDrop()\n",
    "obj = widgets.Text(placeholder='Type your ingredients');\n",
    "display(obj)\n",
    "new = widgets.Button(description=\"New Ingredient\")\n",
    "display(new)\n",
    "new.on_click(updateList)\n",
    "State = widgets.Text(value='',disabled=True);\n",
    "display(State)\n",
    "listI = widgets.Dropdown(options=Ingredients)\n",
    "display(listI)\n",
    "delete = widgets.Button(description=\"Delete Ingredient\")\n",
    "display(delete)\n",
    "delete.on_click(deleteList)"
   ]
  },
  {
   "cell_type": "markdown",
   "id": "60d42bd0",
   "metadata": {},
   "source": [
    "## Search Recipe"
   ]
  },
  {
   "cell_type": "code",
   "execution_count": 37,
   "id": "f0d31629",
   "metadata": {},
   "outputs": [
    {
     "data": {
      "application/vnd.jupyter.widget-view+json": {
       "model_id": "e9551ac13a5849d1bf344a21543227e1",
       "version_major": 2,
       "version_minor": 0
      },
      "text/plain": [
       "Text(value='', disabled=True)"
      ]
     },
     "metadata": {},
     "output_type": "display_data"
    },
    {
     "data": {
      "application/vnd.jupyter.widget-view+json": {
       "model_id": "871b474044db44978008a2b7f5e04da5",
       "version_major": 2,
       "version_minor": 0
      },
      "text/plain": [
       "Button(description='Check for Recipes', style=ButtonStyle())"
      ]
     },
     "metadata": {},
     "output_type": "display_data"
    }
   ],
   "source": [
    "def newRec(b):\n",
    "    recipes = []\n",
    "    for n in nVariables:\n",
    "        ingVals = data[n].dropna().values.tolist()\n",
    "        allIng = True\n",
    "        act = []\n",
    "        for v in Ingredients:\n",
    "            act.append(v.upper())\n",
    "        for i in ingVals:\n",
    "            allIng = allIng and i.upper() in act\n",
    "        if allIng:\n",
    "            recipes.append(n)\n",
    "    if recipes == []:\n",
    "        can.value = \"No recipes with this ingredients\"\n",
    "    else:\n",
    "        strRec = \"\"\n",
    "        for v in recipes:\n",
    "            strRec = strRec + v + \", \"\n",
    "        can.value = \"You can do this recipes: \"+strRec[:-2]\n",
    "can = widgets.Text(value='',disabled=True);\n",
    "display(can)\n",
    "rec = widgets.Button(description=\"Check for Recipes\")\n",
    "display(rec)\n",
    "rec.on_click(newRec)"
   ]
  }
 ],
 "metadata": {
  "kernelspec": {
   "display_name": "Python 3",
   "language": "python",
   "name": "python3"
  },
  "language_info": {
   "codemirror_mode": {
    "name": "ipython",
    "version": 3
   },
   "file_extension": ".py",
   "mimetype": "text/x-python",
   "name": "python",
   "nbconvert_exporter": "python",
   "pygments_lexer": "ipython3",
   "version": "3.8.8"
  }
 },
 "nbformat": 4,
 "nbformat_minor": 5
}
